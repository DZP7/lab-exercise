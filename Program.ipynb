{
 "cells": [
  {
   "cell_type": "code",
   "execution_count": 7,
   "metadata": {},
   "outputs": [
    {
     "name": "stdin",
     "output_type": "stream",
     "text": [
      "What is your first name? Will\n",
      "What is your last name? Troy\n"
     ]
    },
    {
     "name": "stdout",
     "output_type": "stream",
     "text": [
      "Hello Will Troy\n",
      "Troy is 4 characters long; the corresponding Fibonacci number is 5\n"
     ]
    }
   ],
   "source": [
    "name = str(input(\"What is your first name?\"))\n",
    "lastName = str(input(\"What is your last name?\"))\n",
    "print(\"Hello\", name, lastName)\n",
    "l = len(lastName)\n",
    "a = 0\n",
    "b = 1\n",
    "c = 0\n",
    "for i in range(0, l):\n",
    "    c = a + b\n",
    "    a = b\n",
    "    b = c\n",
    "\n",
    "print(lastName + \" is\", l ,\"characters long; the corresponding Fibonacci number is\", c)"
   ]
  },
  {
   "cell_type": "code",
   "execution_count": null,
   "metadata": {},
   "outputs": [],
   "source": []
  }
 ],
 "metadata": {
  "kernelspec": {
   "display_name": "Python 3",
   "language": "python",
   "name": "python3"
  },
  "language_info": {
   "codemirror_mode": {
    "name": "ipython",
    "version": 3
   },
   "file_extension": ".py",
   "mimetype": "text/x-python",
   "name": "python",
   "nbconvert_exporter": "python",
   "pygments_lexer": "ipython3",
   "version": "3.8.3"
  }
 },
 "nbformat": 4,
 "nbformat_minor": 4
}
